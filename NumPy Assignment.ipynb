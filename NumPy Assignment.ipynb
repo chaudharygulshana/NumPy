{
 "cells": [
  {
   "cell_type": "markdown",
   "id": "81464191",
   "metadata": {},
   "source": [
    "1.Write a function so that the columns of the output matrix are powers of the input\n",
    "vector.\n",
    "\n",
    "The order of the powers is determined by the increasing boolean argument. Specifically, when \n",
    "increasing is False, the i-th output column is the input vector raised element-wise to the power \n",
    "of N - i - 1.\n",
    "\n",
    "HINT: Such a matrix with a geometric progression in each row is named for Alexandre\u0002Theophile Vandermonde.\n"
   ]
  },
  {
   "cell_type": "code",
   "execution_count": 1,
   "id": "ccf86c14",
   "metadata": {},
   "outputs": [],
   "source": [
    "import numpy as np\n"
   ]
  },
  {
   "cell_type": "code",
   "execution_count": 2,
   "id": "c6f2610c",
   "metadata": {},
   "outputs": [
    {
     "name": "stdout",
     "output_type": "stream",
     "text": [
      "Enter no. of rows : 3\n",
      "Enter no. of columns : 4\n",
      "Enter elemnts of input vector : \n",
      "\n",
      "2\n",
      "3\n",
      "4\n"
     ]
    }
   ],
   "source": [
    "n=int(input(\"Enter no. of rows : \"))\n",
    "m=int(input(\"Enter no. of columns : \"))\n",
    "print(\"Enter elemnts of input vector : \\n\")\n",
    "y=[int(x)  for i in range(n) for x in input().split()]\n"
   ]
  },
  {
   "cell_type": "code",
   "execution_count": 3,
   "id": "b8a837bb",
   "metadata": {},
   "outputs": [
    {
     "data": {
      "text/plain": [
       "array([[ 1,  2,  4,  8],\n",
       "       [ 1,  3,  9, 27],\n",
       "       [ 1,  4, 16, 64]])"
      ]
     },
     "execution_count": 3,
     "metadata": {},
     "output_type": "execute_result"
    }
   ],
   "source": [
    "\n",
    "def Vandermonde_matrix(input_vector):\n",
    "    return np.array([i**j for i in y for j in range(m)]).reshape(n,m)\n",
    "\n",
    "Vandermonde_matrix(y)\n"
   ]
  },
  {
   "cell_type": "markdown",
   "id": "aeaeb4a5",
   "metadata": {},
   "source": [
    "# Problem Statement\n",
    "Given a sequence of n values x1, x2, ..., xn and a window size k>0, the k-th moving average of \n",
    "the given sequence is defined as follows:\n",
    "\n",
    "The moving average sequence has n-k+1 elements as shown below.\n",
    "\n",
    "The moving averages with k=4 of a ten-value sequence (n=10) is shown below\n",
    "\n",
    "i 1 2 3 4 5 6 7 8 9 10\n",
    "\n",
    "===== == == == == == == == == == ==\n",
    "\n",
    "Input 10 20 30 40 50 60 70 80 90 100 \n",
    "\n",
    "y1 25 = (10+20+30+40)/4\n",
    "\n",
    "y2 35 = (20+30+40+50)/4\n",
    "\n",
    "y3 45 = (30+40+50+60)/4\n",
    "\n",
    "y4 55 = (40+50+60+70)/4\n",
    "\n",
    "y5 65 = (50+60+70+80)/4\n",
    "\n",
    "y6 75 = (60+70+80+90)/4\n",
    "\n",
    "y7 85 = (70+80+90+100)/4\n",
    "\n",
    "Thus, the moving average sequence has n-k+1=10-4+1=7 values."
   ]
  },
  {
   "cell_type": "markdown",
   "id": "d6cd8cec",
   "metadata": {},
   "source": [
    "Question: Write a function to find moving average in an array over a window:\n",
    " Test it over [3, 5, 7, 2, 8, 10, 11, 65, 72, 81, 99, 100, 150] and window of 3."
   ]
  },
  {
   "cell_type": "code",
   "execution_count": 5,
   "id": "5c64a586",
   "metadata": {},
   "outputs": [
    {
     "name": "stdout",
     "output_type": "stream",
     "text": [
      "Enter value of n : 10\n",
      "Enter window size : 4\n",
      "Enter element in sequence: \n",
      "10\n",
      "20\n",
      "30\n",
      "40\n",
      "50\n",
      "60\n",
      "70\n",
      "80\n",
      "90\n",
      "100\n"
     ]
    },
    {
     "data": {
      "text/plain": [
       "[10, 20, 30, 40, 50, 60, 70, 80, 90, 100]"
      ]
     },
     "execution_count": 5,
     "metadata": {},
     "output_type": "execute_result"
    }
   ],
   "source": [
    "n=int(input(\"Enter value of n : \"))\n",
    "k=int(input(\"Enter window size : \"))\n",
    "print(\"Enter element in sequence: \")\n",
    "y=[int(x) for i in range(n) for x in input().split()]\n",
    "y"
   ]
  },
  {
   "cell_type": "code",
   "execution_count": 7,
   "id": "b7154b4b",
   "metadata": {},
   "outputs": [],
   "source": [
    "def moving_average(input_sequence):\n",
    "    matrix=np.array([[input_sequence[i+j] for i in range(k)] for j in range(n-k+1)])\n",
    "    return [np.average(matrix[i]) for i in range(n-k+1)]\n",
    "        \n",
    "        \n",
    "    "
   ]
  },
  {
   "cell_type": "code",
   "execution_count": 8,
   "id": "a8a8a3ce",
   "metadata": {},
   "outputs": [
    {
     "data": {
      "text/plain": [
       "[25.0, 35.0, 45.0, 55.0, 65.0, 75.0, 85.0]"
      ]
     },
     "execution_count": 8,
     "metadata": {},
     "output_type": "execute_result"
    }
   ],
   "source": [
    "moving_average(y)"
   ]
  },
  {
   "cell_type": "code",
   "execution_count": 9,
   "id": "c9c4eace",
   "metadata": {},
   "outputs": [
    {
     "name": "stdout",
     "output_type": "stream",
     "text": [
      "Enter value of n : 13\n",
      "Enter window size : 3\n",
      "Enter element in sequence: \n",
      "3\n",
      "5\n",
      "7\n",
      "2\n",
      "8\n",
      "10\n",
      "11\n",
      "65\n",
      "72\n",
      "81\n",
      "99\n",
      "100\n",
      "150\n"
     ]
    },
    {
     "data": {
      "text/plain": [
       "[5.0,\n",
       " 4.666666666666667,\n",
       " 5.666666666666667,\n",
       " 6.666666666666667,\n",
       " 9.666666666666666,\n",
       " 28.666666666666668,\n",
       " 49.333333333333336,\n",
       " 72.66666666666667,\n",
       " 84.0,\n",
       " 93.33333333333333,\n",
       " 116.33333333333333]"
      ]
     },
     "execution_count": 9,
     "metadata": {},
     "output_type": "execute_result"
    }
   ],
   "source": [
    "n=int(input(\"Enter value of n : \"))\n",
    "k=int(input(\"Enter window size : \"))\n",
    "print(\"Enter element in sequence: \")\n",
    "y=[int(x) for i in range(n) for x in input().split()]\n",
    "\n",
    "def moving_average(input_sequence):\n",
    "    matrix=np.array([[input_sequence[i+j] for i in range(k)] for j in range(n-k+1)])\n",
    "    return [np.average(matrix[i]) for i in range(n-k+1)]\n",
    "moving_average(y)        "
   ]
  },
  {
   "cell_type": "code",
   "execution_count": null,
   "id": "53aec550",
   "metadata": {},
   "outputs": [],
   "source": []
  }
 ],
 "metadata": {
  "kernelspec": {
   "display_name": "Python 3 (ipykernel)",
   "language": "python",
   "name": "python3"
  },
  "language_info": {
   "codemirror_mode": {
    "name": "ipython",
    "version": 3
   },
   "file_extension": ".py",
   "mimetype": "text/x-python",
   "name": "python",
   "nbconvert_exporter": "python",
   "pygments_lexer": "ipython3",
   "version": "3.9.7"
  }
 },
 "nbformat": 4,
 "nbformat_minor": 5
}
